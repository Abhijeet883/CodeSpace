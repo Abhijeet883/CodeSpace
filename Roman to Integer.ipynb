{
 "cells": [
  {
   "cell_type": "code",
   "execution_count": null,
   "metadata": {},
   "outputs": [],
   "source": [
    "s = \"MCMXCIV\"\n",
    "\n",
    "def romtoint(s):\n",
    "    hmap = {\"I\":1, \"V\":5, \"X\":10, \"L\":50,  \"C\":100, \"D\":500, \"M\":1000}\n",
    "    result = 0   \n",
    "    i = 0\n",
    "    while i < len(s):\n",
    "        if i+1<len(s) and hmap[s[i]] < hmap[s[i+1]]:\n",
    "            result += (hmap[s[i+1]] - hmap[s[i]])\n",
    "            i += 2\n",
    "        else:\n",
    "            result += hmap[s[i]]\n",
    "            i += 1\n",
    "    return result\n",
    "\n",
    "romtoint(s)"
   ]
  }
 ],
 "metadata": {
  "kernelspec": {
   "display_name": "Python 3.9.7 64-bit",
   "language": "python",
   "name": "python3"
  },
  "language_info": {
   "codemirror_mode": {
    "name": "ipython",
    "version": 3
   },
   "file_extension": ".py",
   "mimetype": "text/x-python",
   "name": "python",
   "nbconvert_exporter": "python",
   "pygments_lexer": "ipython3",
   "version": "3.9.7"
  },
  "orig_nbformat": 4,
  "vscode": {
   "interpreter": {
    "hash": "b8ffe1c3664f4da60e7310446699d2db577a48881ad6e046ce2077bbfacdc2a3"
   }
  }
 },
 "nbformat": 4,
 "nbformat_minor": 2
}
