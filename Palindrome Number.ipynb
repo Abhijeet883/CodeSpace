{
 "cells": [
  {
   "cell_type": "code",
   "execution_count": 7,
   "metadata": {},
   "outputs": [
    {
     "data": {
      "text/plain": [
       "True"
      ]
     },
     "execution_count": 7,
     "metadata": {},
     "output_type": "execute_result"
    }
   ],
   "source": [
    "#value to be checked if palindrome or not\n",
    "x = 1221\n",
    "def palindrome(x):\n",
    "    #x is stored in another variable which helps in obtaining reverse of x\n",
    "    nums = x\n",
    "    #reverse variable initiated from 0\n",
    "    reverse = 0\n",
    "    #if condition to check if the number is negative or if it's a non-zero number with the last digit as 0. In any case it won't be a palindrome\n",
    "    if x < 0 or (x != 0 and x % 10 == 0):\n",
    "        return False\n",
    "    #while condition which stops at nums = 0\n",
    "    while nums:\n",
    "        #algo to reverse a number\n",
    "        reverse = reverse * 10 + nums % 10\n",
    "        nums = nums // 10 #gives 0 once the last digit is encountered thus stopping the while loop\n",
    "    return x == reverse #returns true if teh reversed integer value is same as the original value\n",
    "    \n",
    "#function call\n",
    "palindrome(x)"
   ]
  }
 ],
 "metadata": {
  "kernelspec": {
   "display_name": "Python 3.9.7 64-bit",
   "language": "python",
   "name": "python3"
  },
  "language_info": {
   "codemirror_mode": {
    "name": "ipython",
    "version": 3
   },
   "file_extension": ".py",
   "mimetype": "text/x-python",
   "name": "python",
   "nbconvert_exporter": "python",
   "pygments_lexer": "ipython3",
   "version": "3.9.7"
  },
  "orig_nbformat": 4,
  "vscode": {
   "interpreter": {
    "hash": "b8ffe1c3664f4da60e7310446699d2db577a48881ad6e046ce2077bbfacdc2a3"
   }
  }
 },
 "nbformat": 4,
 "nbformat_minor": 2
}
