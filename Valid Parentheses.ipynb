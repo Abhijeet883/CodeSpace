{
 "cells": [
  {
   "cell_type": "code",
   "execution_count": 52,
   "metadata": {},
   "outputs": [
    {
     "data": {
      "text/plain": [
       "False"
      ]
     },
     "execution_count": 52,
     "metadata": {},
     "output_type": "execute_result"
    }
   ],
   "source": [
    "#USING STACK ONLY\n",
    "\n",
    "#input string\n",
    "s = \"()[]{}\"\n",
    "\n",
    "def isvalid(s):\n",
    "    #empty list initiated\n",
    "    likestack = []\n",
    "    \n",
    "    #loop that iterates through all characters in the string\n",
    "    for i in s:\n",
    "        #if condition checks that the stack should not be empty \n",
    "        if likestack:\n",
    "            #checking for closed parentheses\n",
    "            #if a closed  parentheses is encountered then the last appended character should be its equivalent open parentheses for the cases to be true\n",
    "            if i == \")\" and likestack[-1] == \"(\":\n",
    "                likestack.pop(-1)\n",
    "            elif i == \"]\" and likestack[-1] == \"[\":\n",
    "                likestack.pop(-1)\n",
    "            elif i == \"}\" and likestack[-1] == \"{\":\n",
    "                likestack.pop(-1)\n",
    "        #if open parentheses encountered then append to list\n",
    "        else:\n",
    "            likestack.append(i)\n",
    "    #at the end the length of the list should be 0 if all the parentheses are opened and closed\n",
    "    return len(likestack) == 0\n",
    "isvalid(s)"
   ]
  },
  {
   "cell_type": "code",
   "execution_count": 45,
   "metadata": {},
   "outputs": [
    {
     "data": {
      "text/plain": [
       "False"
      ]
     },
     "execution_count": 45,
     "metadata": {},
     "output_type": "execute_result"
    }
   ],
   "source": [
    "#USING STACK AND HASHMAP\n",
    "\n",
    "#input string\n",
    "s = \"())[]{}\"\n",
    "\n",
    "def isvalid(s):\n",
    "    #empty list is initiated \n",
    "    stack = []\n",
    "    #hashmap is used to store closing parentheses and its equivalent open parentheses\n",
    "    hashmap = {\")\":\"(\", \"]\":\"[\", \"}\":\"{\"}\n",
    "    \n",
    "    #loop that iterates through all characters in the string\n",
    "    for i in s:\n",
    "        #for closed parentheses\n",
    "        #if the character is key in hashmap \n",
    "        if i in hashmap:\n",
    "            #if the stack is not empty and stacks last appended element is equivalent to i's hashmap value then pop that element from the list\n",
    "            if stack and stack[-1] == hashmap[i]:\n",
    "                stack.pop()\n",
    "            #else return false cuz the parentheses are not closed properly\n",
    "            else:\n",
    "                return False\n",
    "        #for open parentheses just append them to the list\n",
    "        else:\n",
    "            stack.append(i)\n",
    "    #at the end the length of the list should be 0 if all the parentheses are opened and closed\n",
    "    return len(stack) == 0\n",
    "isvalid(s)"
   ]
  }
 ],
 "metadata": {
  "kernelspec": {
   "display_name": "Python 3.9.7 64-bit",
   "language": "python",
   "name": "python3"
  },
  "language_info": {
   "name": "python",
   "version": "3.9.7"
  },
  "orig_nbformat": 4,
  "vscode": {
   "interpreter": {
    "hash": "b8ffe1c3664f4da60e7310446699d2db577a48881ad6e046ce2077bbfacdc2a3"
   }
  }
 },
 "nbformat": 4,
 "nbformat_minor": 2
}
