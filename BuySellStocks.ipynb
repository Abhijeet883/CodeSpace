{
 "cells": [
  {
   "cell_type": "code",
   "execution_count": 6,
   "metadata": {},
   "outputs": [
    {
     "data": {
      "text/plain": [
       "0"
      ]
     },
     "execution_count": 6,
     "metadata": {},
     "output_type": "execute_result"
    }
   ],
   "source": [
    "prices = [7,6,4,3,1]\n",
    "\n",
    "def maxProfit(prices):\n",
    "    buy = 0\n",
    "    sell = 1\n",
    "    maxp = 0\n",
    "    while sell < len(prices):\n",
    "        if prices[buy] < prices[sell]:\n",
    "            profit = prices[sell] - prices[buy]\n",
    "            maxp = max(maxp, profit)\n",
    "        else:\n",
    "            buy = sell\n",
    "        sell += 1\n",
    "    return maxp    \n",
    "maxProfit(prices)"
   ]
  }
 ],
 "metadata": {
  "kernelspec": {
   "display_name": "Python 3.10.6 64-bit",
   "language": "python",
   "name": "python3"
  },
  "language_info": {
   "codemirror_mode": {
    "name": "ipython",
    "version": 3
   },
   "file_extension": ".py",
   "mimetype": "text/x-python",
   "name": "python",
   "nbconvert_exporter": "python",
   "pygments_lexer": "ipython3",
   "version": "3.10.6"
  },
  "orig_nbformat": 4,
  "vscode": {
   "interpreter": {
    "hash": "d3248654ea22e01eba30be24c737f166101737355c2d9a9058a779190f8245d1"
   }
  }
 },
 "nbformat": 4,
 "nbformat_minor": 2
}
