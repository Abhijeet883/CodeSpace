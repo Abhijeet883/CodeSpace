{
 "cells": [
  {
   "cell_type": "code",
   "execution_count": null,
   "metadata": {},
   "outputs": [],
   "source": [
    "s = \"\"\n",
    "\n",
    "def ispal(s):\n",
    "    newS = \"\"\n",
    "    \n",
    "    for ch in s:\n",
    "        if ch.isalnum():\n",
    "            newS += ch.lower \n",
    "\n",
    "    return newS == newS[::-1]\n",
    "ispal(s)"
   ]
  },
  {
   "cell_type": "code",
   "execution_count": 22,
   "metadata": {},
   "outputs": [
    {
     "data": {
      "text/plain": [
       "False"
      ]
     },
     "execution_count": 22,
     "metadata": {},
     "output_type": "execute_result"
    }
   ],
   "source": [
    "s = \"A man, a plan, a canal: P\"\n",
    "\n",
    "def ispal(s):\n",
    "    l = 0\n",
    "    r = len(s)-1\n",
    "    \n",
    "    while l < r:\n",
    "        while l < r and not alphanum(s[l]):\n",
    "            l += 1\n",
    "        while r > l and not alphanum(s[r]):\n",
    "            r -= 1\n",
    "        if s[l].lower() != s[r].lower():\n",
    "            return False\n",
    "        l += 1\n",
    "        r -= 1\n",
    "    return True\n",
    "    \n",
    "    \n",
    "    \n",
    "    \n",
    "\n",
    "def alphanum(ch):\n",
    "    return (('a' <= ch.lower() <= 'z') or ('0' <= ch <= '9'))\n",
    "\n",
    "ispal(s)\n"
   ]
  }
 ],
 "metadata": {
  "kernelspec": {
   "display_name": "Python 3.10.6 64-bit",
   "language": "python",
   "name": "python3"
  },
  "language_info": {
   "codemirror_mode": {
    "name": "ipython",
    "version": 3
   },
   "file_extension": ".py",
   "mimetype": "text/x-python",
   "name": "python",
   "nbconvert_exporter": "python",
   "pygments_lexer": "ipython3",
   "version": "3.10.6"
  },
  "orig_nbformat": 4,
  "vscode": {
   "interpreter": {
    "hash": "d3248654ea22e01eba30be24c737f166101737355c2d9a9058a779190f8245d1"
   }
  }
 },
 "nbformat": 4,
 "nbformat_minor": 2
}
