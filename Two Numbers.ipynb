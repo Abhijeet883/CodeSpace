{
 "cells": [
  {
   "cell_type": "code",
   "execution_count": 25,
   "metadata": {},
   "outputs": [
    {
     "data": {
      "text/plain": [
       "[0, 1]"
      ]
     },
     "execution_count": 25,
     "metadata": {},
     "output_type": "execute_result"
    }
   ],
   "source": [
    "#Brute Force Method\n",
    "def sum():\n",
    "    #test case in list format\n",
    "    nums = [3,3]\n",
    "    #target value\n",
    "    target = 6\n",
    "    #doulbe for loop to iterate through every 2 digit combination of number from the list\n",
    "    for i in range(0, len(nums)):\n",
    "        for j in range(0, len(nums)):\n",
    "            #checking if the same number is used twice or not\n",
    "            if i != j:\n",
    "                if nums[i] + nums[j] == target:\n",
    "                    return[i, j]\n",
    "#function called\n",
    "sum()"
   ]
  }
 ],
 "metadata": {
  "kernelspec": {
   "display_name": "Python 3.9.12 ('base')",
   "language": "python",
   "name": "python3"
  },
  "language_info": {
   "name": "python",
   "version": "3.9.12"
  },
  "orig_nbformat": 4,
  "vscode": {
   "interpreter": {
    "hash": "198dc38c81252feb4faa0d475279f5f6c993dd4570bd3709069413259282040c"
   }
  }
 },
 "nbformat": 4,
 "nbformat_minor": 2
}
