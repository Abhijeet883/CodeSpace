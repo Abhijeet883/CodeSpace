{
 "cells": [
  {
   "cell_type": "code",
   "execution_count": 1,
   "metadata": {},
   "outputs": [],
   "source": [
    "# Merge Sort\n",
    "def merge_sort(arr):\n",
    "    if len(arr) <= 1:\n",
    "        return arr\n",
    "    else:\n",
    "        left_arr = arr[:len(arr)//2]\n",
    "        right_arr = arr[len(arr)//2:]\n",
    "        \n",
    "        # recursion\n",
    "        merge_sort(left_arr)\n",
    "        merge_sort(right_arr)\n",
    "        \n",
    "        # merge\n",
    "        i = 0 # left array index\n",
    "        j = 0 # right array index\n",
    "        k = 0 # merged array index\n",
    "        \n",
    "        while i < len(left_arr) and j < len(right_arr):\n",
    "            if left_arr[i] < right_arr[j]:\n",
    "                arr[k] = left_arr[i]\n",
    "                i += 1\n",
    "            else:\n",
    "                arr[k] = right_arr[j]\n",
    "                j += 1\n",
    "            k +=1\n",
    "        \n",
    "        while i < len(left_arr):\n",
    "            arr[k] = left_arr[i]\n",
    "            i += 1\n",
    "            k += 1\n",
    "        \n",
    "        while j < len(right_arr):\n",
    "            arr[k] = right_arr[j]\n",
    "            j += 1\n",
    "            k += 1\n",
    "    return arr"
   ]
  },
  {
   "cell_type": "code",
   "execution_count": 2,
   "metadata": {},
   "outputs": [
    {
     "data": {
      "text/plain": [
       "[0, 1, 2, 3, 4, 5, 6]"
      ]
     },
     "execution_count": 2,
     "metadata": {},
     "output_type": "execute_result"
    }
   ],
   "source": [
    "arr_test = [6, 5, 4, 3, 2, 1, 0]\n",
    "merge_sort(arr_test)"
   ]
  },
  {
   "cell_type": "code",
   "execution_count": null,
   "metadata": {},
   "outputs": [],
   "source": []
  }
 ],
 "metadata": {
  "kernelspec": {
   "display_name": "Python 3.10.6 64-bit",
   "language": "python",
   "name": "python3"
  },
  "language_info": {
   "codemirror_mode": {
    "name": "ipython",
    "version": 3
   },
   "file_extension": ".py",
   "mimetype": "text/x-python",
   "name": "python",
   "nbconvert_exporter": "python",
   "pygments_lexer": "ipython3",
   "version": "3.10.6"
  },
  "orig_nbformat": 4,
  "vscode": {
   "interpreter": {
    "hash": "d3248654ea22e01eba30be24c737f166101737355c2d9a9058a779190f8245d1"
   }
  }
 },
 "nbformat": 4,
 "nbformat_minor": 2
}
