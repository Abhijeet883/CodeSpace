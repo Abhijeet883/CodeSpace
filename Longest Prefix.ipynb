{
 "cells": [
  {
   "cell_type": "code",
   "execution_count": null,
   "metadata": {},
   "outputs": [],
   "source": [
    "#Longest Common Prefix\n",
    "#here we take the first words to begin with and compare all of its index values and compare it to the rest of the string present in the list\n",
    "#this is a brute force method\n",
    "\n",
    "#Input list\n",
    "strs = [\"flower\",\"flow\",\"flight\"]\n",
    "\n",
    "def lcp(strs):\n",
    "    #emply string of prefix initiated\n",
    "    prefix = \"\"\n",
    "    #nested for loop is used the first iterates through all the index value in the first string in the list \n",
    "    for i in range(len(strs[0])):\n",
    "        #the second loop iterates through all the strings in the list\n",
    "        for str in strs:\n",
    "            #if condition to checks that the index should no go out of bounds or checks if the first string in the list has same index value in the same index of all other string\n",
    "            #if not then that is our cue that the common prefix has ended and we return the string of prefixes\n",
    "            if i == len(str) or str[i] != strs[0][i]:\n",
    "                return prefix\n",
    "        #if the conditions are not satisfied then the letter is added to the string of prefixes\n",
    "        prefix += strs[0][i]\n",
    "    #return the prefix string\n",
    "    return prefix \n",
    "\n",
    "#function call\n",
    "lcp(strs)"
   ]
  }
 ],
 "metadata": {
  "kernelspec": {
   "display_name": "Python 3.9.7 64-bit",
   "language": "python",
   "name": "python3"
  },
  "language_info": {
   "codemirror_mode": {
    "name": "ipython",
    "version": 3
   },
   "file_extension": ".py",
   "mimetype": "text/x-python",
   "name": "python",
   "nbconvert_exporter": "python",
   "pygments_lexer": "ipython3",
   "version": "3.9.7"
  },
  "orig_nbformat": 4,
  "vscode": {
   "interpreter": {
    "hash": "b8ffe1c3664f4da60e7310446699d2db577a48881ad6e046ce2077bbfacdc2a3"
   }
  }
 },
 "nbformat": 4,
 "nbformat_minor": 2
}
